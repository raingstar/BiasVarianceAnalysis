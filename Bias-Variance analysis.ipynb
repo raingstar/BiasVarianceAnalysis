{
 "cells": [
  {
   "cell_type": "markdown",
   "metadata": {},
   "source": [
    "# Does shallow tree always has lower variance and higher bias?"
   ]
  },
  {
   "cell_type": "code",
   "execution_count": 1,
   "metadata": {},
   "outputs": [],
   "source": [
    "import numpy as np\n",
    "from sklearn.linear_model import LinearRegression\n",
    "from sklearn.tree import DecisionTreeRegressor\n",
    "LRmodel = LinearRegression()\n",
    "X = np.linspace(-5, 5, 100).reshape(-1, 1)\n",
    "W = 3.0"
   ]
  },
  {
   "cell_type": "markdown",
   "metadata": {},
   "source": [
    "## Formulas\n",
    "$Variance = E(\\hat{y} - E(\\hat{y}))^2$\n",
    "\n",
    "$Bias = (E(\\hat{y}) - y_{Truth})^2$"
   ]
  },
  {
   "cell_type": "code",
   "execution_count": 7,
   "metadata": {},
   "outputs": [
    {
     "name": "stdout",
     "output_type": "stream",
     "text": [
      "Linear model has variance = 2.007, and bias = 0.00029\n"
     ]
    }
   ],
   "source": [
    "# Train linear model 5000 times with different instance sampling from true model\n",
    "np.random.seed(231)\n",
    "for i in range(5000):\n",
    "    Y = W * X + np.random.normal(0, 10, X.shape)  ## true model Y = 3*X + error\n",
    "    LRmodel.fit(X, Y)\n",
    "    y_pred = LRmodel.predict(X)\n",
    "    if i == 0:\n",
    "        result1 = y_pred\n",
    "    else:\n",
    "        result1 = np.concatenate([result1, y_pred], axis=1)\n",
    "LRmodelVariance = result1.var(axis=1).mean()\n",
    "LRmodelBias = ((result1.mean(axis=1, keepdims=True) - W * X)**2).mean()\n",
    "print(f'Linear model has variance = {LRmodelVariance:.3f}, and bias = {LRmodelBias:.5f}')"
   ]
  },
  {
   "cell_type": "markdown",
   "metadata": {},
   "source": [
    "# 1. If the true model is linear $Y = 3*X + error$\n",
    "1. Deeper tree = higher variance. (Can we prove it in theory?)\n",
    "2. You may have smaller bias in lower tree."
   ]
  },
  {
   "cell_type": "markdown",
   "metadata": {},
   "source": [
    "## 1.1 Tree with max depth = 2-20"
   ]
  },
  {
   "cell_type": "code",
   "execution_count": 8,
   "metadata": {
    "scrolled": true
   },
   "outputs": [
    {
     "name": "stdout",
     "output_type": "stream",
     "text": [
      "Tree model with depth = 2 has variance = 14.010, and bias = 0.01602\n",
      "Tree model with depth = 3 has variance = 24.410, and bias = 0.01659\n",
      "Tree model with depth = 4 has variance = 37.493, and bias = 0.01013\n",
      "Tree model with depth = 5 has variance = 51.497, and bias = 0.00947\n",
      "Tree model with depth = 6 has variance = 64.778, and bias = 0.01351\n",
      "Tree model with depth = 7 has variance = 76.093, and bias = 0.01393\n",
      "Tree model with depth = 8 has variance = 84.740, and bias = 0.01570\n",
      "Tree model with depth = 9 has variance = 90.737, and bias = 0.01687\n",
      "Tree model with depth = 10 has variance = 94.645, and bias = 0.01861\n",
      "Tree model with depth = 11 has variance = 96.983, and bias = 0.01924\n",
      "Tree model with depth = 12 has variance = 98.351, and bias = 0.01896\n",
      "Tree model with depth = 13 has variance = 99.069, and bias = 0.01921\n",
      "Tree model with depth = 14 has variance = 99.433, and bias = 0.01935\n",
      "Tree model with depth = 15 has variance = 99.596, and bias = 0.01938\n",
      "Tree model with depth = 16 has variance = 99.679, and bias = 0.01941\n",
      "Tree model with depth = 17 has variance = 99.715, and bias = 0.01943\n",
      "Tree model with depth = 18 has variance = 99.729, and bias = 0.01940\n",
      "Tree model with depth = 19 has variance = 99.734, and bias = 0.01941\n",
      "Tree model with depth = 20 has variance = 99.735, and bias = 0.01943\n"
     ]
    }
   ],
   "source": [
    "## Train tree model with depth=2-20 5000 times with different instance sampling from true model\n",
    "for max_depth in range(2, 21):\n",
    "    np.random.seed(231)  \n",
    "    for i in range(5000):\n",
    "        Y = W * X + np.random.normal(0, 10, X.shape)  ## true model Y = 3*X + error\n",
    "        DeepDtree = DecisionTreeRegressor(max_depth=max_depth)\n",
    "        DeepDtree.fit(X, Y)\n",
    "        y_pred = DeepDtree.predict(X).reshape(-1, 1)\n",
    "        if i == 0:\n",
    "            result3 = y_pred\n",
    "        else:\n",
    "            result3 = np.concatenate([result3, y_pred], axis=1)\n",
    "    DeepDtreeVariance = result3.var(axis=1).mean()\n",
    "    DeepDtreeBias = ((result3.mean(axis=1, keepdims=True) - W * X)**2).mean()\n",
    "    print(f'Tree model with depth = {max_depth} has variance = {DeepDtreeVariance:.3f}, and bias = {DeepDtreeBias:.5f}')"
   ]
  },
  {
   "cell_type": "markdown",
   "metadata": {},
   "source": [
    "## 1.2 Change random seed"
   ]
  },
  {
   "cell_type": "code",
   "execution_count": 9,
   "metadata": {
    "scrolled": true
   },
   "outputs": [
    {
     "name": "stdout",
     "output_type": "stream",
     "text": [
      "Tree model with depth = 2 has variance = 14.047, and bias = 0.02425\n",
      "Tree model with depth = 3 has variance = 24.397, and bias = 0.02820\n",
      "Tree model with depth = 4 has variance = 37.515, and bias = 0.00633\n",
      "Tree model with depth = 5 has variance = 51.844, and bias = 0.01059\n",
      "Tree model with depth = 6 has variance = 65.216, and bias = 0.01111\n",
      "Tree model with depth = 7 has variance = 76.377, and bias = 0.01489\n",
      "Tree model with depth = 8 has variance = 84.987, and bias = 0.01501\n",
      "Tree model with depth = 9 has variance = 90.935, and bias = 0.01645\n",
      "Tree model with depth = 10 has variance = 94.761, and bias = 0.01747\n",
      "Tree model with depth = 11 has variance = 97.051, and bias = 0.01791\n",
      "Tree model with depth = 12 has variance = 98.366, and bias = 0.01840\n",
      "Tree model with depth = 13 has variance = 99.062, and bias = 0.01885\n",
      "Tree model with depth = 14 has variance = 99.423, and bias = 0.01908\n",
      "Tree model with depth = 15 has variance = 99.599, and bias = 0.01917\n",
      "Tree model with depth = 16 has variance = 99.677, and bias = 0.01922\n",
      "Tree model with depth = 17 has variance = 99.714, and bias = 0.01938\n",
      "Tree model with depth = 18 has variance = 99.732, and bias = 0.01938\n",
      "Tree model with depth = 19 has variance = 99.740, and bias = 0.01938\n",
      "Tree model with depth = 20 has variance = 99.743, and bias = 0.01936\n"
     ]
    }
   ],
   "source": [
    "## Train tree model with depth=2-20 5000 times with different instance sampling from true model\n",
    "\n",
    "for max_depth in range(2, 21):\n",
    "    np.random.seed(459)  # change seed\n",
    "    for i in range(5000):\n",
    "        Y = W * X + np.random.normal(0, 10, X.shape)  ## true model Y = 3*X + error\n",
    "        DeepDtree = DecisionTreeRegressor(max_depth=max_depth)\n",
    "        DeepDtree.fit(X, Y)\n",
    "        y_pred = DeepDtree.predict(X).reshape(-1, 1)\n",
    "        if i == 0:\n",
    "            result3 = y_pred\n",
    "        else:\n",
    "            result3 = np.concatenate([result3, y_pred], axis=1)\n",
    "    DeepDtreeVariance = result3.var(axis=1).mean()\n",
    "    DeepDtreeBias = ((result3.mean(axis=1, keepdims=True) - W * X)**2).mean()\n",
    "    print(f'Tree model with depth = {max_depth} has variance = {DeepDtreeVariance:.3f}, and bias = {DeepDtreeBias:.5f}')"
   ]
  },
  {
   "cell_type": "markdown",
   "metadata": {},
   "source": [
    "# 2. If the true model is $Y = 3*X^3 + error$\n",
    "1. You may have bigger variance in lower tree.\n",
    "2. You may have smaller bias in lower tree."
   ]
  },
  {
   "cell_type": "code",
   "execution_count": 10,
   "metadata": {},
   "outputs": [
    {
     "name": "stdout",
     "output_type": "stream",
     "text": [
      "Tree model with depth = 2 has variance = 1284.582, and bias = 15889.47078\n",
      "Tree model with depth = 3 has variance = 537.204, and bias = 18066.27765\n",
      "Tree model with depth = 4 has variance = 187.971, and bias = 18825.48490\n",
      "Tree model with depth = 5 has variance = 84.715, and bias = 19019.86842\n",
      "Tree model with depth = 6 has variance = 65.019, and bias = 19058.02719\n",
      "Tree model with depth = 7 has variance = 76.660, and bias = 19057.72296\n",
      "Tree model with depth = 8 has variance = 83.387, and bias = 19058.78293\n",
      "Tree model with depth = 9 has variance = 89.082, and bias = 19058.75462\n",
      "Tree model with depth = 10 has variance = 93.168, and bias = 19058.84203\n",
      "Tree model with depth = 11 has variance = 95.986, and bias = 19058.83547\n",
      "Tree model with depth = 12 has variance = 97.760, and bias = 19058.84496\n",
      "Tree model with depth = 13 has variance = 98.775, and bias = 19058.84300\n",
      "Tree model with depth = 14 has variance = 99.303, and bias = 19058.84544\n",
      "Tree model with depth = 15 has variance = 99.548, and bias = 19058.84414\n",
      "Tree model with depth = 16 has variance = 99.660, and bias = 19058.84451\n",
      "Tree model with depth = 17 has variance = 99.709, and bias = 19058.84485\n",
      "Tree model with depth = 18 has variance = 99.727, and bias = 19058.84452\n",
      "Tree model with depth = 19 has variance = 99.734, and bias = 19058.84460\n",
      "Tree model with depth = 20 has variance = 99.735, and bias = 19058.84462\n"
     ]
    }
   ],
   "source": [
    "## Train tree model with depth=2-20 5000 times with different instance sampling from true model\n",
    "for max_depth in range(2, 21):\n",
    "    np.random.seed(231)  \n",
    "    for i in range(5000):\n",
    "        Y = W * X**3 + np.random.normal(0, 10, X.shape)  ## true model Y = 3*X^3 + error\n",
    "        DeepDtree = DecisionTreeRegressor(max_depth=max_depth)\n",
    "        DeepDtree.fit(X, Y)\n",
    "        y_pred = DeepDtree.predict(X).reshape(-1, 1)\n",
    "        if i == 0:\n",
    "            result3 = y_pred\n",
    "        else:\n",
    "            result3 = np.concatenate([result3, y_pred], axis=1)\n",
    "    DeepDtreeVariance = result3.var(axis=1).mean()\n",
    "    DeepDtreeBias = ((result3.mean(axis=1, keepdims=True) - W * X)**2).mean()\n",
    "    print(f'Tree model with depth = {max_depth} has variance = {DeepDtreeVariance:.3f}, and bias = {DeepDtreeBias:.5f}')"
   ]
  },
  {
   "cell_type": "code",
   "execution_count": null,
   "metadata": {},
   "outputs": [],
   "source": []
  },
  {
   "cell_type": "code",
   "execution_count": null,
   "metadata": {},
   "outputs": [],
   "source": []
  }
 ],
 "metadata": {
  "kernelspec": {
   "display_name": "Python 3",
   "language": "python",
   "name": "python3"
  },
  "language_info": {
   "codemirror_mode": {
    "name": "ipython",
    "version": 3
   },
   "file_extension": ".py",
   "mimetype": "text/x-python",
   "name": "python",
   "nbconvert_exporter": "python",
   "pygments_lexer": "ipython3",
   "version": "3.7.6"
  }
 },
 "nbformat": 4,
 "nbformat_minor": 4
}
